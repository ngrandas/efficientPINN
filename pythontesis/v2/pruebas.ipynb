{
 "cells": [
  {
   "cell_type": "code",
   "execution_count": 3,
   "metadata": {},
   "outputs": [
    {
     "name": "stdout",
     "output_type": "stream",
     "text": [
      "tensor(41791752.)\n"
     ]
    }
   ],
   "source": [
    "import torch\n",
    "from typing import List\n",
    "n = 500\n",
    "def foo(x):\n",
    "    return x**2\n",
    "\n",
    "x = torch.linspace(1,n,n)\n",
    "\n",
    "@torch.jit.script\n",
    "def example(x):\n",
    "    futures : List[torch.jit.Future[torch.Tensor]] = []\n",
    "    for _ in range(len(x)):\n",
    "        futures.append(torch.jit.fork(foo, x[_]))\n",
    "\n",
    "    results = []\n",
    "    for future in futures:\n",
    "        results.append(torch.jit.wait(future))\n",
    "\n",
    "    return torch.sum(torch.stack(results))\n",
    "\n",
    "print(example(x))"
   ]
  },
  {
   "cell_type": "code",
   "execution_count": null,
   "metadata": {},
   "outputs": [],
   "source": [
    "import torch\n",
    "from typing import List\n",
    "n = 500\n",
    "def foo(x):\n",
    "    return x**2\n",
    "\n",
    "x = torch.linspace(1,n,n)\n",
    "\n",
    "@torch.jit.script\n",
    "def example(x):\n",
    "    futures : List[torch.jit.Future[torch.Tensor]] = []\n",
    "    for _ in range(len(x)):\n",
    "        futures.append(torch.jit.fork(foo, x[_]))\n",
    "\n",
    "    results = []\n",
    "    for future in futures:\n",
    "        results.append(torch.jit.wait(future))\n",
    "\n",
    "    return torch.sum(torch.stack(results))\n",
    "\n",
    "print(example(x))"
   ]
  },
  {
   "cell_type": "code",
   "execution_count": 8,
   "metadata": {},
   "outputs": [],
   "source": [
    "import dill\n",
    "import torch \n",
    "import torch.nn as nn\n",
    "import matplotlib.pyplot as plt\n",
    "import random as rd\n",
    "import numpy as np\n",
    "import time\n",
    "from typing import List\n",
    "dill.load_session(\"comparacionSerialNB\")"
   ]
  },
  {
   "cell_type": "code",
   "execution_count": 38,
   "metadata": {},
   "outputs": [
    {
     "name": "stdout",
     "output_type": "stream",
     "text": [
      "[0.01, 0.004641588833612777, 0.0021544346900318843, 0.001, 0.0004641588833612782, 0.00021544346900318845, 0.0001, 4.641588833612782e-05, 2.1544346900318867e-05, 1e-05]\n",
      "stringmio\n",
      "[0.01, 0.004641588833612777, 0.0021544346900318843, 0.001, 0.0004641588833612782, 0.00021544346900318845, 0.0001, 4.641588833612782e-05, 2.1544346900318867e-05, 1e-05]\n",
      "anothaone\n"
     ]
    }
   ],
   "source": [
    "import numpy as np\n",
    "import pickle\n",
    "filename = \"archivo\"\n",
    "try:\n",
    "    archivo = open(filename,\"xb\")\n",
    "except:\n",
    "    archivo = open(filename,\"wb\")\n",
    "pickle.dump(list(np.logspace(np.log10(1e-2),np.log10(1e-5),10)),archivo)\n",
    "pickle.dump(\"stringmio\",archivo)\n",
    "pickle.dump(list(np.logspace(np.log10(1e-2),np.log10(1e-5),10)),archivo)\n",
    "pickle.dump(\"anothaone\",archivo)\n",
    "archivo.close()\n",
    "archivo = open(filename,\"rb\")"
   ]
  },
  {
   "cell_type": "code",
   "execution_count": 16,
   "metadata": {},
   "outputs": [
    {
     "data": {
      "text/plain": [
       "0.20000000000000004"
      ]
     },
     "execution_count": 16,
     "metadata": {},
     "output_type": "execute_result"
    }
   ],
   "source": [
    "10**np.log10(0.2)\n"
   ]
  }
 ],
 "metadata": {
  "interpreter": {
   "hash": "31f2aee4e71d21fbe5cf8b01ff0e069b9275f58929596ceb00d14d90e3e16cd6"
  },
  "kernelspec": {
   "display_name": "Python 3.8.10 64-bit",
   "name": "python3"
  },
  "language_info": {
   "codemirror_mode": {
    "name": "ipython",
    "version": 3
   },
   "file_extension": ".py",
   "mimetype": "text/x-python",
   "name": "python",
   "nbconvert_exporter": "python",
   "pygments_lexer": "ipython3",
   "version": "3.8.10"
  },
  "orig_nbformat": 4
 },
 "nbformat": 4,
 "nbformat_minor": 2
}
