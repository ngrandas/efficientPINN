{
 "cells": [
  {
   "cell_type": "code",
   "execution_count": 2,
   "metadata": {},
   "outputs": [
    {
     "name": "stdout",
     "output_type": "stream",
     "text": [
      "Flujo másico 0.2049242424242424 kg/s\n",
      "10.563492951229088\n"
     ]
    }
   ],
   "source": [
    "mPunto = 1623 #lb/hr\n",
    "mPunto /= 2.2 # kg/hr\n",
    "mPunto /= 3600 # kg/s\n",
    "print(\"Flujo másico\",mPunto,\"kg/s\")\n",
    "c = 1855.58976\n",
    "deltaT = 43.33-15.55\n",
    "potencia = mPunto*c*deltaT\n",
    "print(potencia/1000) "
   ]
  },
  {
   "cell_type": "code",
   "execution_count": null,
   "metadata": {},
   "outputs": [],
   "source": []
  }
 ],
 "metadata": {
  "interpreter": {
   "hash": "6bfe78f5952475e6193764c8e47a1401a7034d9b430994f4ecb7fedc0993ecfd"
  },
  "kernelspec": {
   "display_name": "Python 3.9.7 64-bit (system)",
   "name": "python3"
  },
  "language_info": {
   "codemirror_mode": {
    "name": "ipython",
    "version": 3
   },
   "file_extension": ".py",
   "mimetype": "text/x-python",
   "name": "python",
   "nbconvert_exporter": "python",
   "pygments_lexer": "ipython3",
   "version": "3.9.7"
  },
  "orig_nbformat": 4
 },
 "nbformat": 4,
 "nbformat_minor": 2
}
