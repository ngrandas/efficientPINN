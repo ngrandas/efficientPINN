{
 "cells": [
  {
   "cell_type": "markdown",
   "metadata": {},
   "source": [
    "# Iteracion 1 de PINN\n",
    "#### Orden\n",
    "1. Importacion de bibliotecas\n",
    "2. Definir parametros del backward facing step\n",
    "3. Funcion que genera los puntos donde se muestrea el backwards facing step\n",
    "4. Declaracion y Generación de red Neuronal\n",
    "5. definición de la función de inlet\n",
    "\n",
    "#### Problemas actuales\n",
    "- cambio en esta versión\n",
    "    - No se usa Jacobiano ni hessiano\n",
    "- No se deja optimizar\n",
    "    - depende del calculo de navierstokes en X y en Y. No de la continuidad\n",
    "        - Incluir la velocidad (producto directo de la red hace que la red falle) \n",
    "        - El hessiano funciona tranquilo\n",
    "        - El Jacobiano Tambien\n",
    "    - Soluciones posibles\n",
    "        - usar model.eval()\n",
    "        - model.train()\n",
    "        - usar siempre los mismos puntos\n",
    "        - revisar funciones de puntos\n",
    "#### To do\n",
    "- puntear linea\n",
    "- averiguar como lo hacen deep xde\n",
    "- intentar implementar hard boundary conditions\n",
    "- considerar modelo de pared (u+ , y+)\n",
    "- buscar usar multithreading\n",
    "- Generar sampleo de puntos con funciones peso dinamico para consumir menos tiempo evaluando\n",
    "\n",
    "$$f(x,y) = red neuronal$$\n",
    "$$g(x,y) = (y-limiteY)*f(x)$$\n",
    "\n",
    "Considerar usar limites duros"
   ]
  },
  {
   "cell_type": "markdown",
   "metadata": {},
   "source": [
    "### Importación de bibliotecas"
   ]
  },
  {
   "cell_type": "code",
   "execution_count": 1,
   "metadata": {},
   "outputs": [],
   "source": [
    "import matplotlib.pyplot as plt \n",
    "import random as rd\n",
    "import numpy as np\n",
    "import torch \n",
    "import torch.nn as nn\n",
    "#torch.autograd.set_detect_anomaly(True)"
   ]
  },
  {
   "cell_type": "markdown",
   "metadata": {},
   "source": [
    "### Definición de parametros del Backwards Facing step"
   ]
  },
  {
   "cell_type": "code",
   "execution_count": 2,
   "metadata": {},
   "outputs": [],
   "source": [
    "re=1\n",
    "rho=1\n",
    "mu=1\n",
    "uprom=2\n",
    "xinf=0\n",
    "xsup=1\n",
    "ubicacionSalto=0.2\n",
    "altoSalto=0\n",
    "device = \"cpu\"\n",
    "dtype = torch.long\n",
    "def ysup(x):\n",
    "\treturn 1\n",
    "def yinf(x):\n",
    "\t#Esta funcion define el limite inferior de mi fluido en Y como una funcion de x\n",
    "\tif (x>ubicacionSalto):\n",
    "\t\treturn 0\n",
    "\telse:\n",
    "\t\treturn altoSalto"
   ]
  },
  {
   "cell_type": "markdown",
   "metadata": {},
   "source": [
    "### Definición de la función generadora de puntos"
   ]
  },
  {
   "cell_type": "code",
   "execution_count": 3,
   "metadata": {},
   "outputs": [],
   "source": [
    "def nube(n_interno,n_frontera):\n",
    "\t#Esta funcion genera los puntos aleatorios sobre los cuales se va a probar la \n",
    "\t#funcion de perdida\n",
    "\t#n_interno corresponde a los puntos internos del fluido\n",
    "\t#n_frontera corresponde a los puntos sobre los cuales se probara la condicion de frontera\n",
    "    puntosInternos=[]\n",
    "    puntosInlet=[]\n",
    "    puntosPared=[]\n",
    "    puntosOutlet=[]\n",
    "    for i in range(n_interno):#Estos son los puntos Internos\n",
    "        xtemp=xinf+(xsup-xinf)*rd.random()\n",
    "        ytemp=yinf(xtemp)+(ysup(xtemp)-yinf(xtemp))*rd.random()\n",
    "        puntosInternos.append([xtemp,ytemp])\n",
    "\n",
    "\t#Estos puntos estan en las fronteras\n",
    "    for i in range(n_frontera):\n",
    "        seleccion = rd.randint(1,5)\n",
    "        if(seleccion == 1): #Esta va a ser la frontera de la pared arriba\n",
    "            xtemp=xinf+(xsup-xinf)*rd.random()\n",
    "            ytemp=ysup(xtemp)\n",
    "            puntosPared.append([xtemp,ytemp])\n",
    "        elif (seleccion == 2): #Esta va a ser la pared de abajo sin incluir el step\n",
    "            xtemp=xinf+(xsup-xinf)*rd.random()\n",
    "            ytemp=yinf(xtemp)\n",
    "            puntosPared.append([xtemp,ytemp])\n",
    "        elif (seleccion==3): #Esta va a ser la pared donde hay el backwards facing step\n",
    "            xtemp=ubicacionSalto\n",
    "            ytemp=yinf(xsup)+altoSalto*rd.random()\n",
    "            puntosPared.append([xtemp,ytemp])\n",
    "        elif (seleccion==4): #Este va a ser el inlet\n",
    "            xtemp=xinf\n",
    "            ytemp=yinf(xtemp)+(ysup(xtemp)-yinf(xtemp))*rd.random()\n",
    "            puntosInlet.append([xtemp,ytemp])\n",
    "        else:\n",
    "            xtemp=xsup\n",
    "            ytemp=yinf(xtemp)+(ysup(xtemp)-yinf(xtemp))*rd.random()\n",
    "            puntosOutlet.append([xtemp,ytemp])\n",
    "\n",
    "    puntosInternos = torch.Tensor(puntosInternos)\n",
    "    puntosPared = torch.Tensor(puntosPared)\n",
    "    puntosInlet = torch.Tensor(puntosInlet)\n",
    "    puntosOutlet = torch.Tensor(puntosOutlet)\n",
    "\n",
    "\n",
    "\n",
    "    return ([puntosInternos,puntosPared,puntosInlet,puntosOutlet])\n",
    "\n",
    "def plottearNube(n_interno,n_frontera):\n",
    "    # Esta función plottea n_interno puntos internos y n_frontera puntos en la frontera \n",
    "\tlabels=[\"Fluido\",\"Pared\",\"Inlet\",\"Outlet\"]\n",
    "\ty=0\n",
    "\tfor j in nube(n_interno,n_frontera):\n",
    "\t\txtemp=[]\n",
    "\t\tytemp=[]\n",
    "\t\tfor i in j:\n",
    "\t\t\txtemp.append(i[0])\n",
    "\t\t\tytemp.append(i[1])\n",
    "\t\tplt.plot(xtemp,ytemp,linewidth=0,marker=\"o\",label=labels[y])\n",
    "\t\ty+=1\n",
    "\tplt.legend()\n",
    "\tplt.show()"
   ]
  },
  {
   "cell_type": "markdown",
   "metadata": {},
   "source": [
    "### Definición y generación de la red neuronal"
   ]
  },
  {
   "cell_type": "code",
   "execution_count": 4,
   "metadata": {},
   "outputs": [],
   "source": [
    "import torch.nn as nn\n",
    "class NeuralNetworkPrueba(nn.Module):\n",
    "    def __init__(self):\n",
    "        super(NeuralNetworkPrueba, self).__init__()\n",
    "        self.flatten = nn.Flatten()\n",
    "        self.linear_relu_stack = nn.Sequential(\n",
    "            nn.Linear(2, 50),\n",
    "            nn.Tanh(),\n",
    "            nn.Linear(50, 50),\n",
    "            nn.Tanh(),\n",
    "            nn.Linear(50, 50),\n",
    "            nn.Tanh(),\n",
    "            nn.Linear(50, 50),\n",
    "            nn.Tanh(),\n",
    "            nn.Linear(50, 50),\n",
    "            nn.Tanh(),\n",
    "            nn.Linear(50, 3),\n",
    "        )\n",
    "\n",
    "    def forward(self, x):\n",
    "        logits = self.linear_relu_stack(x)\n",
    "        return logits\n",
    "\n",
    "\n",
    "red=NeuralNetworkPrueba().to(device)"
   ]
  },
  {
   "cell_type": "markdown",
   "metadata": {},
   "source": [
    "### Definición de la función de inlet"
   ]
  },
  {
   "cell_type": "code",
   "execution_count": 5,
   "metadata": {},
   "outputs": [],
   "source": [
    "class u_ini_clase(torch.autograd.Function):\n",
    "\t#Esta clase corresponde al perfil de entrada\n",
    "\t@staticmethod\n",
    "\tdef forward(ctx, input):\n",
    "\t\tctx.save_for_backward(input)\n",
    "\t\tk=-8*uprom/(ysup(xinf)-yinf(xinf))**2\n",
    "\t\treturn k * (input-yinf(xinf))*(input-ysup(xinf))\n",
    "\t\n",
    "\t@staticmethod\n",
    "\tdef backward(ctx, grad_output):\n",
    "\t\tinput, = ctx.saved_tensors\n",
    "\t\tk=-8*uprom/(ysup(xinf)-yinf(xinf))**2\n",
    "\t\treturn grad_output * k * (2 * input - ysup(xinf)+yinf(xinf))\n",
    "u_ini_2=u_ini_clase.apply"
   ]
  },
  {
   "cell_type": "code",
   "execution_count": 6,
   "metadata": {},
   "outputs": [
    {
     "name": "stdout",
     "output_type": "stream",
     "text": [
      "tensor(0.0148, grad_fn=<SelectBackward>)\n"
     ]
    }
   ],
   "source": [
    "i = torch.linspace(0,1,2)\n",
    "i.requires_grad = True\n",
    "u_i = red(i)[0]\n",
    "dudx_prueba = torch.autograd.grad(u_i,i,create_graph=True)[0]\n",
    "print(dudx_prueba[0])"
   ]
  },
  {
   "cell_type": "markdown",
   "metadata": {},
   "source": [
    "### Definición de la función de perdida"
   ]
  },
  {
   "cell_type": "markdown",
   "metadata": {},
   "source": [
    "$$\\text{jacobiano}=\\begin{pmatrix}\n",
    "\\frac{du}{dx} & \\frac{du}{dy} \\\\\n",
    "\\frac{dv}{dx} & \\frac{dv}{dy}\n",
    "\\end{pmatrix}$$\n",
    "\n",
    "$$\\text{hessiano}_u=\\begin{pmatrix}\n",
    "\\frac{d^2u}{dx^2} & \\frac{d^2u}{dxdy} \\\\\n",
    "\\frac{d^2u}{dxdy} & \\frac{d^2u}{dy^2}\n",
    "\\end{pmatrix}$$\n",
    "\n",
    "$$\\text{hessiano}_v=\\begin{pmatrix}\n",
    "\\frac{d^2v}{dx^2} & \\frac{d^2v}{dxdy} \\\\\n",
    "\\frac{d^2v}{dxdy} & \\frac{d^2v}{dy^2}\n",
    "\\end{pmatrix}$$"
   ]
  },
  {
   "cell_type": "code",
   "execution_count": 6,
   "metadata": {},
   "outputs": [],
   "source": [
    "k_inlet = 1\n",
    "k_outlet = 1\n",
    "k_pared = 1\n",
    "k_continuidad = 1\n",
    "\n",
    "registro_perdida_interna=[]\n",
    "registro_perdida_pared=[]\n",
    "registro_perdida_inlet=[]\n",
    "registro_perdida_outet=[]\n",
    "\n",
    "\n",
    "def miniPerdidaInlet(puntos_inlet):\n",
    "\t# Esta es una función auxiliar que calcula la perdida sobre el inlet \n",
    "\tsumaInterna = 0\n",
    "\tfor i in puntos_inlet:\n",
    "\t\tsumaInterna+=red(i)[1]**2\n",
    "\t\tsumaInterna+=(red(i)[0]-u_ini_2(i[1]))**2\n",
    "\tprint(\"funciono un inlet\")\n",
    "\treturn sumaInterna\n",
    "\t\n",
    "def miniPerdidaPared(puntos_pared):\n",
    "\t# Esta es una funcíón auxiliar que calcula la perdida sobre la pared\n",
    "\tsumaInterna = 0\n",
    "\tfor i in puntos_pared:\n",
    "\t\tsumaInterna+=torch.abs(red(i)[0])\n",
    "\t\tsumaInterna+=torch.abs(red(i)[1])\n",
    "\tprint(\"funciono una pared\")\n",
    "\treturn sumaInterna\n",
    "\t\t\n",
    "def miniPerdidaOutlet(puntos_outlet):\n",
    "\t# Esta es una funcíón auxiliar que calcula la perdida sobre la pared\n",
    "\tsumaInterna = 0\n",
    "\tfor i in puntos_outlet:\n",
    "\t\tsumaInterna+=torch.abs(p(i))\n",
    "\tprint(\"funciono un outlet\")\n",
    "\treturn sumaInterna\t\n",
    "\n",
    "def u(x):\n",
    "\treturn red(x)[0]\n",
    "\n",
    "def v(x):\n",
    "\treturn red(x)[1]\n",
    "\n",
    "def p(x):\n",
    "\treturn red(x)[2]\n",
    "\n",
    "def miniperdidaInterna(puntos_internos):\n",
    "\t# Esta es una funcíón auxiliar que calcula la perdida sobre el fluido con Navier Stokes y condición de continuidad\n",
    "\tglobal k_continuidad\n",
    "\tsuma=0\n",
    "\tsuma=torch.tensor(0)\n",
    "\timprime = False\n",
    "\tfor i in puntos_internos:\n",
    "\t\ti.requires_grad = True\n",
    "\t\tu_i=red(i)[0] #Esta variable existe para consumir ram pero cpu tiempo computacional \n",
    "\t\tv_i=red(i)[1] #Esta variable existe para consumir ram pero cpu tiempo computacional\n",
    "\t\tp_i=red(i)[2]\n",
    "\t\t#calculo de las derivadas\n",
    "\n",
    "\t\tdudx = torch.autograd.grad(u_i,i,create_graph=True,retain_graph = True)[0][0]\n",
    "\t\tdudy = torch.autograd.grad(u_i,i,create_graph=True,retain_graph = True)[0][1]\n",
    "\t\tdvdx = torch.autograd.grad(v_i,i,create_graph=True,retain_graph = True)[0][0]\n",
    "\t\tdvdy = torch.autograd.grad(v_i,i,create_graph=True,retain_graph = True)[0][1]\n",
    "\t\tdpdx = torch.autograd.grad(p_i,i,create_graph=True,retain_graph = True)[0][0]\n",
    "\t\tdpdy = torch.autograd.grad(p_i,i,create_graph=True,retain_graph = True)[0][1]\n",
    "\t\tdduddx = torch.autograd.grad(dudx,i,create_graph=True,retain_graph = True)[0][0]\n",
    "\t\tdduddy = torch.autograd.grad(dudy,i,create_graph=True,retain_graph = True)[0][1]\n",
    "\t\tddvddx = torch.autograd.grad(dvdx,i,create_graph=True,retain_graph = True)[0][0]\n",
    "\t\tddvddy = torch.autograd.grad(dvdy,i,create_graph=True,retain_graph = True)[0][1]\n",
    "\n",
    "\t\tterminoDifusivo_u = dduddx+dduddy\n",
    "\t\tterminoDifusivo_v = ddvddy+ddvddx\n",
    "\n",
    "\t\ta_conv_u = dudx*u_i+dudy*v_i #aceleracion convectiva\n",
    "\t\ta_conv_v = dvdx*u_i+dvdy*v_i #aceleracion convectiva\n",
    "\t\t\n",
    "\t\tcontinuidad = dudx +dvdy\n",
    "\t\t\n",
    "\t\t#nsEstaticoX = dpdx+dpdy\n",
    "\t\t#nsEstaticoY = dpdx+dpdy\n",
    "\t\tnsEstaticoX=rho*a_conv_u+dpdx-(terminoDifusivo_u)*mu\n",
    "\t\tnsEstaticoY=rho*a_conv_v+dpdy-(terminoDifusivo_v)*mu\n",
    "\t\t\n",
    "\t\tsuma.add(nsEstaticoX**2)\n",
    "\t\tsuma.add(nsEstaticoY**2)\n",
    "\t\t\n",
    "\t\tsuma.add(k_continuidad*continuidad**2)\n",
    "\t\tif imprime:\n",
    "\t\t\tprint(\"Punto Prueba\")\n",
    "\t\t\tprint(i)\n",
    "\t\t\tprint(\"Jacobiano\")\n",
    "\t\t\tprint(jacobiano)\n",
    "\t\t\tprint(\"Hessiano de u\")\n",
    "\t\t\tprint(hessiano_u)\n",
    "\t\t\t#print(\"Estatico en X\",nsEstaticoX)\n",
    "\t\t\tprint(\"Estatico en Y\",nsEstaticoY)\n",
    "\t\t\tprint(\"continuidad\",continuidad)\n",
    "\tprint(\"funciono la suma\")\n",
    "\tprint(suma)\n",
    "\treturn suma\n",
    "\n",
    "\n",
    "puntos = nube(20,200)\n",
    "\n",
    "def perdida(n_internos,n_frontera):\n",
    "\tglobal k_pared,k_inlet,k_outlet,k_continuidad\n",
    "\t#puntos = nube(n_internos,n_frontera)\n",
    "\tglobal puntos\n",
    "\tsuma = torch.tensor(0) #la variable suma es la que va a cargar la suma de las perdidas\n",
    "\t\n",
    "\t# Perdida Interna\n",
    "\tcalculoStokes=miniperdidaInterna(puntos[0])\n",
    "\tregistro_perdida_interna.append(calculoStokes.detach().numpy())\n",
    "\tsuma.add(calculoStokes) #ACA DEBE IR LA ECUACION DE NAVIER STOKES Y CONTINUIDAD\n",
    "\n",
    "\t#perdida pared\n",
    "\tcalculoPared=miniPerdidaPared(puntos[1])\n",
    "\tregistro_perdida_pared.append(calculoPared.detach().numpy())\n",
    "\tsuma.add(k_pared*calculoPared) #ACA DEBE IR LA ECUACION DE LA PARED\n",
    "\t\n",
    "\t#perdida inlet\n",
    "\tcalculoInlet=miniPerdidaInlet(puntos[2])\n",
    "\tregistro_perdida_inlet.append(calculoInlet.detach().numpy())\n",
    "\tsuma.add(k_inlet*calculoInlet) #ACA DEBE IR LA CONDICION PARA QUE EL FLUJO ENTRE DESARROLADO\n",
    "\t\n",
    "\t#perdida outlet\n",
    "\tcalculoOutlet=miniPerdidaOutlet(puntos[3])\n",
    "\tregistro_perdida_outet.append(calculoOutlet.detach().numpy())\n",
    "\tsuma.add(k_outlet*calculoOutlet) #ACA DEBE IR LA ECUACION PARA EL OUTLET, ESTA ES DE PRESION UNICAMENTE\n",
    "\n",
    "\tk_pared = calculoStokes/(min(1e-3,calculoPared))\n",
    "\tk_inlet = calculoStokes/(min(1e-3,calculoInlet))\n",
    "\tk_outlet = calculoStokes/(min(1e-3,calculoOutlet))\n",
    "\tk_continuidad = calculoStokes/3\n",
    "\treturn suma\n",
    "\n",
    "\n",
    "def probarPerdida():\n",
    "\tprint(perdida(10,100))\n",
    "\tprint(\"interna\",registro_perdida_interna)\n",
    "\tprint(\"pared\",registro_perdida_pared)\n",
    "\tprint(\"inlet\",registro_perdida_inlet)\n",
    "\tprint(\"outlet\",registro_perdida_outet)"
   ]
  },
  {
   "cell_type": "code",
   "execution_count": 7,
   "metadata": {},
   "outputs": [
    {
     "name": "stdout",
     "output_type": "stream",
     "text": [
      "funciono la suma\n",
      "tensor(0)\n",
      "funciono una pared\n",
      "funciono un inlet\n",
      "funciono un outlet\n",
      "tensor(0)\n",
      "interna [array(0, dtype=int64)]\n",
      "pared [array(18.841955, dtype=float32)]\n",
      "inlet [array(314.4793, dtype=float32)]\n",
      "outlet [array(2.5246654, dtype=float32)]\n"
     ]
    }
   ],
   "source": [
    "probarPerdida()"
   ]
  },
  {
   "cell_type": "markdown",
   "metadata": {},
   "source": [
    "### Aprendizaje de la red"
   ]
  },
  {
   "cell_type": "code",
   "execution_count": 11,
   "metadata": {},
   "outputs": [
    {
     "name": "stdout",
     "output_type": "stream",
     "text": [
      "0\n",
      "funciono la suma\n",
      "funciono una pared\n",
      "funciono un inlet\n",
      "funciono un outlet\n"
     ]
    },
    {
     "ename": "RuntimeError",
     "evalue": "grad can be implicitly created only for scalar outputs",
     "output_type": "error",
     "traceback": [
      "\u001b[1;31m---------------------------------------------------------------------------\u001b[0m",
      "\u001b[1;31mRuntimeError\u001b[0m                              Traceback (most recent call last)",
      "\u001b[1;32m<ipython-input-11-b1c6102e0afb>\u001b[0m in \u001b[0;36m<module>\u001b[1;34m\u001b[0m\n\u001b[0;32m     10\u001b[0m     \u001b[0mloss\u001b[0m \u001b[1;33m=\u001b[0m \u001b[0mperdida\u001b[0m\u001b[1;33m(\u001b[0m\u001b[1;36m2500\u001b[0m\u001b[1;33m,\u001b[0m\u001b[1;36m2500\u001b[0m\u001b[1;33m)\u001b[0m\u001b[1;33m\u001b[0m\u001b[1;33m\u001b[0m\u001b[0m\n\u001b[0;32m     11\u001b[0m     \u001b[1;31m# Backpropagation\u001b[0m\u001b[1;33m\u001b[0m\u001b[1;33m\u001b[0m\u001b[0m\n\u001b[1;32m---> 12\u001b[1;33m     \u001b[0mloss\u001b[0m\u001b[1;33m.\u001b[0m\u001b[0mbackward\u001b[0m\u001b[1;33m(\u001b[0m\u001b[0mretain_graph\u001b[0m\u001b[1;33m=\u001b[0m\u001b[1;32mTrue\u001b[0m\u001b[1;33m)\u001b[0m\u001b[1;33m\u001b[0m\u001b[1;33m\u001b[0m\u001b[0m\n\u001b[0m\u001b[0;32m     13\u001b[0m     \u001b[0moptimizer\u001b[0m\u001b[1;33m.\u001b[0m\u001b[0mstep\u001b[0m\u001b[1;33m(\u001b[0m\u001b[1;33m)\u001b[0m\u001b[1;33m\u001b[0m\u001b[1;33m\u001b[0m\u001b[0m\n\u001b[0;32m     14\u001b[0m     \u001b[0moptimizer\u001b[0m\u001b[1;33m.\u001b[0m\u001b[0mzero_grad\u001b[0m\u001b[1;33m(\u001b[0m\u001b[1;33m)\u001b[0m\u001b[1;33m\u001b[0m\u001b[1;33m\u001b[0m\u001b[0m\n",
      "\u001b[1;32m~\\AppData\\Local\\Programs\\Python\\Python39\\lib\\site-packages\\torch\\tensor.py\u001b[0m in \u001b[0;36mbackward\u001b[1;34m(self, gradient, retain_graph, create_graph, inputs)\u001b[0m\n\u001b[0;32m    243\u001b[0m                 \u001b[0mcreate_graph\u001b[0m\u001b[1;33m=\u001b[0m\u001b[0mcreate_graph\u001b[0m\u001b[1;33m,\u001b[0m\u001b[1;33m\u001b[0m\u001b[1;33m\u001b[0m\u001b[0m\n\u001b[0;32m    244\u001b[0m                 inputs=inputs)\n\u001b[1;32m--> 245\u001b[1;33m         \u001b[0mtorch\u001b[0m\u001b[1;33m.\u001b[0m\u001b[0mautograd\u001b[0m\u001b[1;33m.\u001b[0m\u001b[0mbackward\u001b[0m\u001b[1;33m(\u001b[0m\u001b[0mself\u001b[0m\u001b[1;33m,\u001b[0m \u001b[0mgradient\u001b[0m\u001b[1;33m,\u001b[0m \u001b[0mretain_graph\u001b[0m\u001b[1;33m,\u001b[0m \u001b[0mcreate_graph\u001b[0m\u001b[1;33m,\u001b[0m \u001b[0minputs\u001b[0m\u001b[1;33m=\u001b[0m\u001b[0minputs\u001b[0m\u001b[1;33m)\u001b[0m\u001b[1;33m\u001b[0m\u001b[1;33m\u001b[0m\u001b[0m\n\u001b[0m\u001b[0;32m    246\u001b[0m \u001b[1;33m\u001b[0m\u001b[0m\n\u001b[0;32m    247\u001b[0m     \u001b[1;32mdef\u001b[0m \u001b[0mregister_hook\u001b[0m\u001b[1;33m(\u001b[0m\u001b[0mself\u001b[0m\u001b[1;33m,\u001b[0m \u001b[0mhook\u001b[0m\u001b[1;33m)\u001b[0m\u001b[1;33m:\u001b[0m\u001b[1;33m\u001b[0m\u001b[1;33m\u001b[0m\u001b[0m\n",
      "\u001b[1;32m~\\AppData\\Local\\Programs\\Python\\Python39\\lib\\site-packages\\torch\\autograd\\__init__.py\u001b[0m in \u001b[0;36mbackward\u001b[1;34m(tensors, grad_tensors, retain_graph, create_graph, grad_variables, inputs)\u001b[0m\n\u001b[0;32m    139\u001b[0m \u001b[1;33m\u001b[0m\u001b[0m\n\u001b[0;32m    140\u001b[0m     \u001b[0mgrad_tensors_\u001b[0m \u001b[1;33m=\u001b[0m \u001b[0m_tensor_or_tensors_to_tuple\u001b[0m\u001b[1;33m(\u001b[0m\u001b[0mgrad_tensors\u001b[0m\u001b[1;33m,\u001b[0m \u001b[0mlen\u001b[0m\u001b[1;33m(\u001b[0m\u001b[0mtensors\u001b[0m\u001b[1;33m)\u001b[0m\u001b[1;33m)\u001b[0m\u001b[1;33m\u001b[0m\u001b[1;33m\u001b[0m\u001b[0m\n\u001b[1;32m--> 141\u001b[1;33m     \u001b[0mgrad_tensors_\u001b[0m \u001b[1;33m=\u001b[0m \u001b[0m_make_grads\u001b[0m\u001b[1;33m(\u001b[0m\u001b[0mtensors\u001b[0m\u001b[1;33m,\u001b[0m \u001b[0mgrad_tensors_\u001b[0m\u001b[1;33m)\u001b[0m\u001b[1;33m\u001b[0m\u001b[1;33m\u001b[0m\u001b[0m\n\u001b[0m\u001b[0;32m    142\u001b[0m     \u001b[1;32mif\u001b[0m \u001b[0mretain_graph\u001b[0m \u001b[1;32mis\u001b[0m \u001b[1;32mNone\u001b[0m\u001b[1;33m:\u001b[0m\u001b[1;33m\u001b[0m\u001b[1;33m\u001b[0m\u001b[0m\n\u001b[0;32m    143\u001b[0m         \u001b[0mretain_graph\u001b[0m \u001b[1;33m=\u001b[0m \u001b[0mcreate_graph\u001b[0m\u001b[1;33m\u001b[0m\u001b[1;33m\u001b[0m\u001b[0m\n",
      "\u001b[1;32m~\\AppData\\Local\\Programs\\Python\\Python39\\lib\\site-packages\\torch\\autograd\\__init__.py\u001b[0m in \u001b[0;36m_make_grads\u001b[1;34m(outputs, grads)\u001b[0m\n\u001b[0;32m     48\u001b[0m             \u001b[1;32mif\u001b[0m \u001b[0mout\u001b[0m\u001b[1;33m.\u001b[0m\u001b[0mrequires_grad\u001b[0m\u001b[1;33m:\u001b[0m\u001b[1;33m\u001b[0m\u001b[1;33m\u001b[0m\u001b[0m\n\u001b[0;32m     49\u001b[0m                 \u001b[1;32mif\u001b[0m \u001b[0mout\u001b[0m\u001b[1;33m.\u001b[0m\u001b[0mnumel\u001b[0m\u001b[1;33m(\u001b[0m\u001b[1;33m)\u001b[0m \u001b[1;33m!=\u001b[0m \u001b[1;36m1\u001b[0m\u001b[1;33m:\u001b[0m\u001b[1;33m\u001b[0m\u001b[1;33m\u001b[0m\u001b[0m\n\u001b[1;32m---> 50\u001b[1;33m                     \u001b[1;32mraise\u001b[0m \u001b[0mRuntimeError\u001b[0m\u001b[1;33m(\u001b[0m\u001b[1;34m\"grad can be implicitly created only for scalar outputs\"\u001b[0m\u001b[1;33m)\u001b[0m\u001b[1;33m\u001b[0m\u001b[1;33m\u001b[0m\u001b[0m\n\u001b[0m\u001b[0;32m     51\u001b[0m                 \u001b[0mnew_grads\u001b[0m\u001b[1;33m.\u001b[0m\u001b[0mappend\u001b[0m\u001b[1;33m(\u001b[0m\u001b[0mtorch\u001b[0m\u001b[1;33m.\u001b[0m\u001b[0mones_like\u001b[0m\u001b[1;33m(\u001b[0m\u001b[0mout\u001b[0m\u001b[1;33m,\u001b[0m \u001b[0mmemory_format\u001b[0m\u001b[1;33m=\u001b[0m\u001b[0mtorch\u001b[0m\u001b[1;33m.\u001b[0m\u001b[0mpreserve_format\u001b[0m\u001b[1;33m)\u001b[0m\u001b[1;33m)\u001b[0m\u001b[1;33m\u001b[0m\u001b[1;33m\u001b[0m\u001b[0m\n\u001b[0;32m     52\u001b[0m             \u001b[1;32melse\u001b[0m\u001b[1;33m:\u001b[0m\u001b[1;33m\u001b[0m\u001b[1;33m\u001b[0m\u001b[0m\n",
      "\u001b[1;31mRuntimeError\u001b[0m: grad can be implicitly created only for scalar outputs"
     ]
    }
   ],
   "source": [
    "learning_rate = 1e-6\n",
    "batch_size = 64\n",
    "epochs = 4\n",
    "\n",
    "optimizer = torch.optim.Adam(red.parameters(), lr=learning_rate)\n",
    "registro_perdida=[]\n",
    "for i in range(epochs):\n",
    "    print(i)\n",
    "    # Compute prediction and loss\n",
    "    loss = perdida(2500,2500)\n",
    "    # Backpropagation\n",
    "    loss.backward(retain_graph=True)\n",
    "    optimizer.step()\n",
    "    optimizer.zero_grad()\n",
    "    print(loss.item())\n",
    "    if i % 100 == 0:\n",
    "        print(loss.item())\n",
    "    registro_perdida.append(loss.item())"
   ]
  },
  {
   "cell_type": "code",
   "execution_count": 9,
   "metadata": {},
   "outputs": [
    {
     "data": {
      "text/plain": [
       "[<matplotlib.lines.Line2D at 0x223eb3ab820>]"
      ]
     },
     "execution_count": 9,
     "metadata": {},
     "output_type": "execute_result"
    },
    {
     "data": {
      "image/png": "[encoded data removed]",
      "text/plain": [
       "<Figure size 432x288 with 1 Axes>"
      ]
     },
     "metadata": {
      "needs_background": "light"
     },
     "output_type": "display_data"
    }
   ],
   "source": [
    "plt.semilogy(registro_perdida[:])"
   ]
  },
  {
   "cell_type": "markdown",
   "metadata": {},
   "source": [
    "# Pruebas"
   ]
  },
  {
   "cell_type": "code",
   "execution_count": 23,
   "metadata": {},
   "outputs": [
    {
     "data": {
      "text/plain": [
       "tensor(417077.5312, grad_fn=<AddBackward0>)"
      ]
     },
     "execution_count": 23,
     "metadata": {},
     "output_type": "execute_result"
    }
   ],
   "source": [
    "def perdidaGeneradoraParabolica():\n",
    "    suma = 0\n",
    "    for x_temp in torch.linspace(0,1,80):\n",
    "        for y_temp in torch.linspace(0,1,500):\n",
    "            x=torch.tensor([x_temp,y_temp])\n",
    "            suma += (u_ini_2(x[1])-red(x)[0])**2+red(x)[1]**2+red(x)[2]**2\n",
    "        for y_temp in torch.linspace(0.45,0.65,40):\n",
    "            x=torch.tensor([x_temp,y_temp])\n",
    "            suma += (u_ini_2(x[1])-red(x)[0])**2+red(x)[1]**2+red(x)[2]**2\n",
    "        for y_temp in torch.linspace(0,0.1,30):\n",
    "            x=torch.tensor([x_temp,y_temp])\n",
    "            suma += (u_ini_2(x[1])-red(x)[0])**2+red(x)[1]**2+red(x)[2]**2\n",
    "    return suma\n",
    "perdidaGeneradoraParabolica()"
   ]
  },
  {
   "cell_type": "code",
   "execution_count": 14,
   "metadata": {},
   "outputs": [
    {
     "data": {
      "image/png": "[encoded data removed]",
      "text/plain": [
       "<Figure size 1440x576 with 1 Axes>"
      ]
     },
     "metadata": {
      "needs_background": "light"
     },
     "output_type": "display_data"
    }
   ],
   "source": [
    "plt.figure(figsize=(20,8))\n",
    "for x in np.linspace(0,1,5):\n",
    "    y=np.linspace(0,1,50)\n",
    "    utemp = []\n",
    "    for i in y:\n",
    "        i_temp=torch.tensor([x,i],dtype=torch.float32)\n",
    "        utemp.append(red(i_temp).detach().numpy()[0])\n",
    "    plt.plot(utemp,y,label=x)\n",
    "#plt.plot(u_ini_2(y).detach.numpy(),y,label=\"ideal\")\n",
    "plt.legend()\n",
    "plt.show()"
   ]
  },
  {
   "cell_type": "code",
   "execution_count": null,
   "metadata": {},
   "outputs": [
    {
     "name": "stdout",
     "output_type": "stream",
     "text": [
      "122.06570434570312\n",
      "120.52519989013672\n",
      "119.02569580078125\n",
      "117.5660400390625\n",
      "116.14288330078125\n"
     ]
    }
   ],
   "source": [
    "learning_rate = 9e-6\n",
    "batch_size_interno = 2500\n",
    "batch_size_frontera = 800\n",
    "epochs = 200\n",
    "import time\n",
    "start = time.time()\n",
    "optimizer = torch.optim.Adam(red.parameters(), lr=learning_rate)\n",
    "registro_perdida=[]\n",
    "for i in range(epochs):\n",
    "    # Compute prediction and loss\n",
    "    loss = perdidaGeneradoraParabolica()\n",
    "    \n",
    "    # Backpropagation\n",
    "    optimizer.zero_grad()\n",
    "    loss.backward()\n",
    "    optimizer.step()\n",
    "\n",
    "    if i % 10 == 0:\n",
    "        print(loss.item())\n",
    "    registro_perdida.append(loss.item())"
   ]
  },
  {
   "cell_type": "markdown",
   "metadata": {},
   "source": [
    "### Pruebas a la funcion de perdida\n",
    "#### Pruebas realizadas\n",
    "- Probar que la función corra\n",
    "    - probar que la función calcule gradientes y jacobianos\n",
    "#### Pruebas pendientes\n",
    "- Probar con un perfil parabolico\n",
    "    - Probar que el perfil parabolico retorne el hessiano apropiado\n",
    "    - Probar que el perfil parabolico retorne el jacobiano apropiado\n",
    "    - Probar que el perfil parabolico retorne la derivada apropiada"
   ]
  },
  {
   "cell_type": "code",
   "execution_count": null,
   "metadata": {},
   "outputs": [
    {
     "data": {
      "image/png": "[encoded data removed]",
      "text/plain": [
       "<Figure size 432x288 with 1 Axes>"
      ]
     },
     "metadata": {},
     "output_type": "display_data"
    },
    {
     "data": {
      "image/png": "[encoded data removed]",
      "text/plain": [
       "<Figure size 432x288 with 1 Axes>"
      ]
     },
     "metadata": {},
     "output_type": "display_data"
    }
   ],
   "source": [
    "x_prueba=torch.linspace(0,1,100)\n",
    "derivadasManuales=[]\n",
    "derivadasdelJabociano=[]\n",
    "derivadas3=[]\n",
    "\n",
    "def u_prueba(x):\n",
    "    return red(x)[0]\n",
    "\n",
    "for i in x_prueba: \n",
    "    w=torch.tensor([0,i],dtype=torch.float32)\n",
    "    derivadasdelJabociano.append(torch.autograd.functional.jacobian(red,w)[0,0].detach().numpy())\n",
    "    dudxprueba=(red(w+torch.Tensor([0.001,0]))-red(w))/0.001\n",
    "    derivadasManuales.append(dudxprueba[0].detach().numpy())\n",
    "    dudxprueba2 = derivadas3.append(torch.autograd.functional.jacobian(red,w)[0,0].detach().numpy())\n",
    "\n",
    "\n",
    "plt.plot(derivadasManuales,label=\"manuales\")\n",
    "plt.plot(derivadasdelJabociano,label=\"del jacobiano\")\n",
    "plt.plot(derivadas3,label=\"cortado\")\n",
    "plt.legend()\n",
    "plt.show()\n",
    "\n",
    "derivadasManuales=[]\n",
    "derivadasdelJabociano=[]\n",
    "derivadas3=[]\n",
    "\n",
    "h=1e-2\n",
    "for i in x_prueba: \n",
    "    w=torch.tensor([0,i],dtype=torch.float32)\n",
    "    derivadasdelJabociano.append(torch.autograd.functional.hessian(u_prueba,w)[0,0].detach().numpy())\n",
    "    dudxprueba=(red(w+torch.Tensor([h,0]))+red(w-torch.Tensor([h,0]))-2*red(w))/h**2\n",
    "    derivadasManuales.append(dudxprueba[0].detach().numpy())\n",
    "    dudxprueba2 = derivadas3.append(torch.autograd.functional.hessian(u_prueba,w)[0,0].detach().numpy())\n",
    "\n",
    "\n",
    "\n",
    "\n",
    "plt.plot(derivadasManuales,label=\"manuales\")\n",
    "plt.plot(derivadasdelJabociano,label=\"del jacobiano\")\n",
    "plt.plot(derivadas3,label=\"cortado\")\n",
    "plt.legend()\n",
    "plt.show()\n"
   ]
  },
  {
   "cell_type": "code",
   "execution_count": null,
   "metadata": {},
   "outputs": [
    {
     "name": "stdout",
     "output_type": "stream",
     "text": [
      "funciono la suma\n",
      "funciono una pared\n",
      "funciono un inlet\n",
      "funciono un outlet\n",
      "tensor(141.1049, grad_fn=<AddBackward0>)\n",
      "interna [array(0.04695344, dtype=float32)]\n",
      "pared [array(11.313935, dtype=float32)]\n",
      "inlet [array(127.71476, dtype=float32)]\n",
      "outlet [array(2.0292184, dtype=float32)]\n",
      "funciono la suma\n",
      "funciono una pared\n",
      "funciono un inlet\n",
      "funciono un outlet\n",
      "tensor(11620.9639, grad_fn=<AddBackward0>)\n",
      "interna [array(0.04695344, dtype=float32), array(0.03427401, dtype=float32)]\n",
      "pared [array(11.313935, dtype=float32), array(8.861301, dtype=float32)]\n",
      "inlet [array(127.71476, dtype=float32), array(236.02429, dtype=float32)]\n",
      "outlet [array(2.0292184, dtype=float32), array(2.6134412, dtype=float32)]\n"
     ]
    }
   ],
   "source": [
    "probarPerdida()\n",
    "probarPerdida()\n"
   ]
  },
  {
   "cell_type": "markdown",
   "metadata": {},
   "source": [
    "### Funciones para graficar los flujos"
   ]
  },
  {
   "cell_type": "code",
   "execution_count": null,
   "metadata": {},
   "outputs": [],
   "source": [
    "def sacaVelocidades(x,y):\n",
    "    x_temp1=torch.tensor([x,y])\n",
    "    resultado=red(x_temp1).detach().numpy()\n",
    "    return resultado[0],resultado[1]\t\n",
    "def graficarVelocidades():\n",
    "\t#Esto aun no funciona porque no termino de entender quiver\n",
    "    flechasEnX=18\n",
    "    flechasEnY=14\n",
    "\t\n",
    "    flechasEnPrimeraSeccion=int(flechasEnX*(ubicacionSalto-xinf)/(xsup-xinf))\t\n",
    "    flechasEnSegundaSeccion=flechasEnX-flechasEnPrimeraSeccion\n",
    "   \t\n",
    "    xtemp=np.linspace(xinf,ubicacionSalto,flechasEnPrimeraSeccion)\n",
    "    ytemp=np.linspace(yinf(xinf),ysup(xinf),flechasEnY)\n",
    "\n",
    "    \n",
    "    Xtemp,Ytemp=np.meshgrid(xtemp,ytemp)\n",
    "    print(Xtemp)\n",
    "    print(Ytemp)\n",
    "    utemp,vtemp=sacaVelocidades(Xtemp,Ytemp)\n",
    "\n",
    "    \n",
    "    plt.figure(figsize=(10,10))\n",
    "    plt.ylim(yinf(xsup),ysup(xsup))\n",
    "    plt.xlim(xinf,xsup)\n",
    "    plt.quiver(xtemp,ytemp,utemp,vtemp,units=\"xy\",scale=75,width=0.005)\n",
    "   \t\n",
    "    xtemp=np.linspace(ubicacionSalto,xsup,flechasEnSegundaSeccion)\n",
    "    ytemp=np.linspace(yinf(xsup),ysup(xsup),flechasEnY)\t\n",
    "    Xtemp,Ytemp=np.meshgrid(xtemp,ytemp)\n",
    "    utemp,vtemp=sacaVelocidades(Xtemp,Ytemp)\n",
    "    plt.quiver(xtemp,ytemp,utemp,vtemp,units=\"xy\",scale=75,width=0.005)\n",
    "\n",
    "    plt.show()\n",
    "def trazadorDeStreamLine(x_ini,y_ini):\t\n",
    "\tntemp=50\n",
    "\tdeltaTemp=(xsup-x_ini)/ntemp\n",
    "\txtemp=[x_ini]\n",
    "\tytemp=[y_ini]\n",
    "\tfor i in range(ntemp):\n",
    "\t\tutemp,vtemp=sacaVelocidades(xtemp[-1],ytemp[-1])\n",
    "\t\txtemp.append(xtemp[-1]+utemp*deltaTemp)\n",
    "\t\tytemp.append(ytemp[-1]+vtemp*deltaTemp)\n",
    "\tplt.plot(xtemp,ytemp)\n",
    "\tplt.show()"
   ]
  }
 ],
 "metadata": {
  "interpreter": {
   "hash": "6bfe78f5952475e6193764c8e47a1401a7034d9b430994f4ecb7fedc0993ecfd"
  },
  "kernelspec": {
   "display_name": "Python 3.9.7 64-bit (system)",
   "name": "python3"
  },
  "language_info": {
   "codemirror_mode": {
    "name": "ipython",
    "version": 3
   },
   "file_extension": ".py",
   "mimetype": "text/x-python",
   "name": "python",
   "nbconvert_exporter": "python",
   "pygments_lexer": "ipython3",
   "version": "3.9.7"
  },
  "orig_nbformat": 4
 },
 "nbformat": 4,
 "nbformat_minor": 2
}
